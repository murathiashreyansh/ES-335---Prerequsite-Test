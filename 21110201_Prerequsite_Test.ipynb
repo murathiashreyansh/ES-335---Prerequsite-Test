{
  "nbformat": 4,
  "nbformat_minor": 0,
  "metadata": {
    "colab": {
      "provenance": []
    },
    "kernelspec": {
      "name": "python3",
      "display_name": "Python 3"
    },
    "language_info": {
      "name": "python"
    }
  },
  "cells": [
    {
      "cell_type": "code",
      "source": [
        "# Import libraries\n",
        "\n",
        "import time\n",
        "import numpy as np\n",
        "import sympy as sp\n",
        "import pandas as pd"
      ],
      "metadata": {
        "id": "PuKTf6AXSSq8"
      },
      "execution_count": 41,
      "outputs": []
    },
    {
      "cell_type": "markdown",
      "source": [
        "Answer 1\n",
        "\n",
        "We've to multiply an (n, k) matrix A by a (k, m) matrix B. The resulting matrix, C, will have dimensions (n, m).\n",
        "\n",
        "\n",
        "To calculate a single element Cij of the resulting matrix C, we perform the following:\n",
        "\n",
        "\n",
        "Multiplications: We multiply corresponding elements from a row of A and a column of B and sum the results. Since there are k elements in each row of A and column of B, we perform k multiplications.\n",
        "\n",
        "Additions: To sum the k products calculated above, we perform k-1 additions.\n",
        "\n",
        "\n",
        "\n",
        "Since there are n rows in C and m columns in C, we calculate n * m elements.\n",
        "\n",
        "\n",
        "Total multiplications: n * m * k  multiplications\n",
        "Total additions: n * m * (k-1) additions"
      ],
      "metadata": {
        "id": "aqcUe0ReK6EZ"
      }
    },
    {
      "cell_type": "code",
      "source": [
        "# Answer 2\n",
        "print(\"Answer 2\")\n",
        "\n",
        "\n",
        "# Functions to multiply matrix using list of lists\n",
        "\n",
        "def multiply_matrices_list(A, B):\n",
        "\n",
        "    # Initialise an empty result matrix\n",
        "\n",
        "    result = [[0 for _ in range(len(B[0]))] for _ in range(len(A))]\n",
        "    for i in range(len(A)):\n",
        "        for j in range(len(B[0])):\n",
        "            for k in range(len(B)):\n",
        "                result[i][j] += A[i][k] * B[k][j]\n",
        "    return result\n",
        "\n",
        "\n",
        "# Functions to multiply matrix using numpy\n",
        "\n",
        "def multiply_matrices_numpy(A, B):\n",
        "\n",
        "    return np.dot(A, B)\n",
        "\n",
        "\n",
        "def time_matrix_multiplication(A, B, func):\n",
        "\n",
        "    # Times the execution of a matrix multiplication function\n",
        "\n",
        "    start_time = time.time()\n",
        "    result = func(A, B)\n",
        "    end_time = time.time()\n",
        "\n",
        "    return result, end_time - start_time\n",
        "\n",
        "\n",
        "# Example matrices\n",
        "A = np.random.randint(1, 10, (10, 20))\n",
        "B = np.random.randint(1, 10, (20, 15))\n",
        "\n",
        "# Using list of lists\n",
        "result_list, time_list = time_matrix_multiplication(A, B, multiply_matrices_list)\n",
        "print(\"List of lists time:\", time_list, \"seconds\")\n",
        "\n",
        "# Using NumPy\n",
        "result_numpy, time_numpy = time_matrix_multiplication(A, B, multiply_matrices_numpy)\n",
        "print(\"NumPy time:\", time_numpy, \"seconds\")\n",
        "\n",
        "if time_list > time_numpy:\n",
        "    print(\"NumPy is faster\")\n",
        "else:\n",
        "    print(\"List of lists is faster\")\n",
        "\n",
        "\n",
        "\n",
        "print(\"The reason why numpy is faster is due to its vectorized operations and underlying optimised algorithms.\")"
      ],
      "metadata": {
        "colab": {
          "base_uri": "https://localhost:8080/"
        },
        "id": "JsHI5G1-RYAW",
        "outputId": "29320c76-87a3-470a-c0eb-0a250671fa62"
      },
      "execution_count": 43,
      "outputs": [
        {
          "output_type": "stream",
          "name": "stdout",
          "text": [
            "Answer 2\n",
            "List of lists time: 0.0021886825561523438 seconds\n",
            "NumPy time: 3.695487976074219e-05 seconds\n",
            "NumPy is faster\n",
            "The reason why numpy is faster is due to its vectorized operations and underlying optimised algorithms.\n"
          ]
        }
      ]
    },
    {
      "cell_type": "markdown",
      "source": [
        "Answer 4\n",
        "\n",
        "Given the function:\n",
        "\n",
        "f(x, y) = x^2y + y^3sin(x)\n",
        "\n",
        "We need to find the partial derivatives with respect to x and y:\n",
        "\n",
        "Partial Derivative with respect to x:\n",
        "∂f/∂x = 2xy + y^3*cos(x)\n",
        "\n",
        "Partial Derivative with respect to y:\n",
        "∂f/∂y = x^2 + 3y^2*sin(x)\n",
        "\n",
        "\n",
        "Therefore, the gradient of f(x, y) is:\n",
        "\n",
        "∇f(x, y) = (2xy + y^3cos(x), x^2 + 3y^2sin(x))\n"
      ],
      "metadata": {
        "id": "TAOOw-ldL7SU"
      }
    },
    {
      "cell_type": "code",
      "source": [
        "# Answer 6\n",
        "print(\"Answer 6\")\n",
        "\n",
        "\n",
        "# Define symbols\n",
        "x, y = sp.symbols('x y')\n",
        "\n",
        "# Define the function\n",
        "f = x**2 * y + y**3 * sp.sin(x)\n",
        "\n",
        "# Calculate the gradient\n",
        "gradient = sp.Matrix([sp.diff(f, x), sp.diff(f, y)])\n",
        "print(gradient)\n"
      ],
      "metadata": {
        "colab": {
          "base_uri": "https://localhost:8080/"
        },
        "id": "2cwNOSa3Myxj",
        "outputId": "79cdc786-6e30-4f9d-c2b0-f8d54b4a38a0"
      },
      "execution_count": 44,
      "outputs": [
        {
          "output_type": "stream",
          "name": "stdout",
          "text": [
            "Answer 6\n",
            "Matrix([[2*x*y + y**3*cos(x)], [x**2 + 3*y**2*sin(x)]])\n"
          ]
        }
      ]
    },
    {
      "cell_type": "code",
      "source": [
        "# Answer 7\n",
        "print(\"Answer 7\")\n",
        "\n",
        "\n",
        "student_records = {\n",
        "    2022: {\n",
        "        \"Branch 1\": {\n",
        "            1: {\"Roll No.\" : 21110201, \"Name\": \"Shreyansh\", \"Marks\": {\"Maths\": 100, \"English\": 100}},\n",
        "            # Other students in Branch 1\n",
        "        },\n",
        "        \"Branch 2\": {\n",
        "            # Other students in Branch 2\n",
        "        }\n",
        "    },\n",
        "    2023: {\n",
        "        # Branches and Students for 2023\n",
        "    },\n",
        "    # Other years\n",
        "}\n",
        "\n",
        "print(student_records)"
      ],
      "metadata": {
        "colab": {
          "base_uri": "https://localhost:8080/"
        },
        "id": "rcukhppoQB_i",
        "outputId": "5e11a220-5b67-48c6-9951-581c59a94c87"
      },
      "execution_count": 51,
      "outputs": [
        {
          "output_type": "stream",
          "name": "stdout",
          "text": [
            "Answer 7\n",
            "{2022: {'Branch 1': {1: {'Roll No.': 21110201, 'Name': 'Shreyansh', 'Marks': {'Maths': 100, 'English': 100}}}, 'Branch 2': {}}, 2023: {}}\n"
          ]
        }
      ]
    },
    {
      "cell_type": "code",
      "source": [
        "# Answer 10\n",
        "print(\"Answer 10\")\n",
        "\n",
        "# Generate a 20x5 matrix of random numbers between 1 and 2\n",
        "matrix = np.random.uniform(1, 2, size=(20, 5))\n",
        "\n",
        "# Create a Pandas DataFrame from the matrix\n",
        "df = pd.DataFrame(matrix, columns=[\"a\", \"b\", \"c\", \"d\", \"e\"])\n",
        "\n",
        "# Find the column with the highest standard deviation\n",
        "column_with_highest_std = df.std().idxmax()\n",
        "print(\"Column with highest standard deviation:\", column_with_highest_std)\n",
        "\n",
        "# Find the row with the lowest mean\n",
        "row_with_lowest_mean = df.mean(axis=1).idxmin()\n",
        "print(\"Row with lowest mean:\", row_with_lowest_mean)\n"
      ],
      "metadata": {
        "colab": {
          "base_uri": "https://localhost:8080/"
        },
        "id": "sdDGmRJ5TJNm",
        "outputId": "1ec2257b-b218-4c6e-f6e2-f9c57009bae7"
      },
      "execution_count": 48,
      "outputs": [
        {
          "output_type": "stream",
          "name": "stdout",
          "text": [
            "Answer 10\n",
            "Column with highest standard deviation: d\n",
            "Row with lowest mean: 17\n"
          ]
        }
      ]
    },
    {
      "cell_type": "code",
      "source": [
        "# Answer 13\n",
        "print(\"Answer 13\")\n",
        "\n",
        "\n",
        "def argmin_func(arr):\n",
        "\n",
        "  min_value = arr[0, 0]\n",
        "  min_row = 0\n",
        "  min_col = 0\n",
        "\n",
        "  for i in range(arr.shape[0]):\n",
        "    for j in range(arr.shape[1]):\n",
        "      if arr[i, j] < min_value:\n",
        "        min_value = arr[i, j]\n",
        "        min_row = i\n",
        "        min_col = j\n",
        "\n",
        "  return min_row, min_col\n",
        "\n",
        "# Example\n",
        "arr = np.array([[3, 1, 4, 5],\n",
        "                [1, 5, 3, 7],\n",
        "                [2, 6, 5, 0]])\n",
        "result = argmin_func(arr)\n",
        "print(f'The lowest element found by iteration is at {result}')\n",
        "\n",
        "# Verify with np.argmin:\n",
        "flat_index = np.argmin(arr)\n",
        "\n",
        "# Converting the index of the minimum element in the flattened version of the array to i, j form\n",
        "row_index, col_index = divmod(flat_index, arr.shape[1])\n",
        "print(f'The lowest element found by np.argmin is at ({row_index}, {col_index})')\n"
      ],
      "metadata": {
        "colab": {
          "base_uri": "https://localhost:8080/"
        },
        "id": "KrCt-5qlN3Z3",
        "outputId": "14803488-e9a7-4665-ef77-e82209b971f3"
      },
      "execution_count": 50,
      "outputs": [
        {
          "output_type": "stream",
          "name": "stdout",
          "text": [
            "Answer 13\n",
            "The lowest element found by iteration is at (2, 3)\n",
            "The lowest element found by np.argmin is at (2, 3)\n"
          ]
        }
      ]
    }
  ]
}